{
 "cells": [
  {
   "cell_type": "markdown",
   "metadata": {},
   "source": [
    "DEEP LEARNING LM MODEL WITH KERAS"
   ]
  },
  {
   "cell_type": "markdown",
   "metadata": {},
   "source": [
    "Deep Learning has been shown to perform really well on many NLP tasks like Text Summarization, Machine Translation, etc. and since these tasks are essentially built upon Language Modeling, there has been a tremendous research effort with great results to use Neural Networks for Language Modeling"
   ]
  },
  {
   "cell_type": "code",
   "execution_count": 18,
   "metadata": {},
   "outputs": [],
   "source": [
    "# imports\n",
    "import numpy as np\n",
    "import pandas as pd\n",
    "from keras.utils import to_categorical\n",
    "from keras.preprocessing.sequence import pad_sequences\n",
    "from keras.models import Sequential\n",
    "from keras.layers import LSTM, Dense, GRU, Embedding\n",
    "from keras.callbacks import EarlyStopping, ModelCheckpoint"
   ]
  },
  {
   "cell_type": "code",
   "execution_count": 19,
   "metadata": {},
   "outputs": [],
   "source": [
    "\n",
    "data_text = \"\"\"The unanimous Declaration of the thirteen united States of America, When in the Course of human events, it becomes necessary for one people to dissolve the political bands which have connected them with another, and to assume among the powers of the earth, the separate and equal station to which the Laws of Nature and of Nature's God entitle them, a decent respect to the opinions of mankind requires that they should declare the causes which impel them to the separation.\n",
    "We hold these truths to be self-evident, that all men are created equal, that they are endowed by their Creator with certain unalienable Rights, that among these are Life, Liberty and the pursuit of Happiness.--That to secure these rights, Governments are instituted among Men, deriving their just powers from the consent of the governed, --That whenever any Form of Government becomes destructive of these ends, it is the Right of the People to alter or to abolish it, and to institute new Government, laying its foundation on such principles and organizing its powers in such form, as to them shall seem most likely to effect their Safety and Happiness. Prudence, indeed, will dictate that Governments long established should not be changed for light and transient causes; and accordingly all experience hath shewn, that mankind are more disposed to suffer, while evils are sufferable, than to right themselves by abolishing the forms to which they are accustomed. But when a long train of abuses and usurpations, pursuing invariably the same Object evinces a design to reduce them under absolute Despotism, it is their right, it is their duty, to throw off such Government, and to provide new Guards for their future security.--Such has been the patient sufferance of these Colonies; and such is now the necessity which constrains them to alter their former Systems of Government. The history of the present King of Great Britain is a history of repeated injuries and usurpations, all having in direct object the establishment of an absolute Tyranny over these States. To prove this, let Facts be submitted to a candid world.\n",
    "He has refused his Assent to Laws, the most wholesome and necessary for the public good.\n",
    "He has forbidden his Governors to pass Laws of immediate and pressing importance, unless suspended in their operation till his Assent should be obtained; and when so suspended, he has utterly neglected to attend to them.\n",
    "He has refused to pass other Laws for the accommodation of large districts of people, unless those people would relinquish the right of Representation in the Legislature, a right inestimable to them and formidable to tyrants only.\n",
    "He has called together legislative bodies at places unusual, uncomfortable, and distant from the depository of their public Records, for the sole purpose of fatiguing them into compliance with his measures.\n",
    "He has dissolved Representative Houses repeatedly, for opposing with manly firmness his invasions on the rights of the people.\n",
    "He has refused for a long time, after such dissolutions, to cause others to be elected; whereby the Legislative powers, incapable of Annihilation, have returned to the People at large for their exercise; the State remaining in the mean time exposed to all the dangers of invasion from without, and convulsions within.\n",
    "He has endeavoured to prevent the population of these States; for that purpose obstructing the Laws for Naturalization of Foreigners; refusing to pass others to encourage their migrations hither, and raising the conditions of new Appropriations of Lands.\n",
    "He has obstructed the Administration of Justice, by refusing his Assent to Laws for establishing Judiciary powers.\n",
    "He has made Judges dependent on his Will alone, for the tenure of their offices, and the amount and payment of their salaries.\n",
    "He has erected a multitude of New Offices, and sent hither swarms of Officers to harrass our people, and eat out their substance.\n",
    "He has kept among us, in times of peace, Standing Armies without the Consent of our legislatures.\n",
    "He has affected to render the Military independent of and superior to the Civil power.\n",
    "He has combined with others to subject us to a jurisdiction foreign to our constitution, and unacknowledged by our laws; giving his Assent to their Acts of pretended Legislation:\n",
    "For Quartering large bodies of armed troops among us:\n",
    "For protecting them, by a mock Trial, from punishment for any Murders which they should commit on the Inhabitants of these States:\n",
    "For cutting off our Trade with all parts of the world:\n",
    "For imposing Taxes on us without our Consent:\n",
    "For depriving us in many cases, of the benefits of Trial by Jury:\n",
    "For transporting us beyond Seas to be tried for pretended offences\n",
    "For abolishing the free System of English Laws in a neighbouring Province, establishing therein an Arbitrary government, and enlarging its Boundaries so as to render it at once an example and fit instrument for introducing the same absolute rule into these Colonies:\n",
    "For taking away our Charters, abolishing our most valuable Laws, and altering fundamentally the Forms of our Governments:\n",
    "For suspending our own Legislatures, and declaring themselves invested with power to legislate for us in all cases whatsoever.\n",
    "He has abdicated Government here, by declaring us out of his Protection and waging War against us.\n",
    "He has plundered our seas, ravaged our Coasts, burnt our towns, and destroyed the lives of our people.\n",
    "He is at this time transporting large Armies of foreign Mercenaries to compleat the works of death, desolation and tyranny, already begun with circumstances of Cruelty & perfidy scarcely paralleled in the most barbarous ages, and totally unworthy the Head of a civilized nation.\n",
    "He has constrained our fellow Citizens taken Captive on the high Seas to bear Arms against their Country, to become the executioners of their friends and Brethren, or to fall themselves by their Hands.\n",
    "He has excited domestic insurrections amongst us, and has endeavoured to bring on the inhabitants of our frontiers, the merciless Indian Savages, whose known rule of warfare, is an undistinguished destruction of all ages, sexes and conditions.\n",
    "In every stage of these Oppressions We have Petitioned for Redress in the most humble terms: Our repeated Petitions have been answered only by repeated injury. A Prince whose character is thus marked by every act which may define a Tyrant, is unfit to be the ruler of a free people.\n",
    "Nor have We been wanting in attentions to our Brittish brethren. We have warned them from time to time of attempts by their legislature to extend an unwarrantable jurisdiction over us. We have reminded them of the circumstances of our emigration and settlement here. We have appealed to their native justice and magnanimity, and we have conjured them by the ties of our common kindred to disavow these usurpations, which, would inevitably interrupt our connections and correspondence. They too have been deaf to the voice of justice and of consanguinity. We must, therefore, acquiesce in the necessity, which denounces our Separation, and hold them, as we hold the rest of mankind, Enemies in War, in Peace Friends.\n",
    "We, therefore, the Representatives of the united States of America, in General Congress, Assembled, appealing to the Supreme Judge of the world for the rectitude of our intentions, do, in the Name, and by Authority of the good People of these Colonies, solemnly publish and declare, That these United Colonies are, and of Right ought to be Free and Independent States; that they are Absolved from all Allegiance to the British Crown, and that all political connection between them and the State of Great Britain, is and ought to be totally dissolved; and that as Free and Independent States, they have full Power to levy War, conclude Peace, contract Alliances, establish Commerce, and to do all other Acts and Things which Independent States may of right do. And for the support of this Declaration, with a firm reliance on the protection of divine Providence, we mutually pledge to each other our Lives, our Fortunes and our sacred Honor.\"\"\""
   ]
  },
  {
   "cell_type": "code",
   "execution_count": 20,
   "metadata": {},
   "outputs": [],
   "source": [
    "# Pre-processing the Text Data\n",
    "import re\n",
    "\n",
    "def text_cleaner(text):\n",
    "    # lower case text\n",
    "    newString = text.lower()\n",
    "    newString = re.sub(r\"'s\\b\",\"\",newString)\n",
    "    # remove punctuations\n",
    "    newString = re.sub(\"[^a-zA-Z]\", \" \", newString) \n",
    "    long_words=[]\n",
    "    # remove short word\n",
    "    for i in newString.split():\n",
    "        if len(i)>=3:                  \n",
    "            long_words.append(i)\n",
    "    return (\" \".join(long_words)).strip()\n",
    "\n",
    "# preprocess the text\n",
    "data_new = text_cleaner(data_text)"
   ]
  },
  {
   "cell_type": "code",
   "execution_count": 21,
   "metadata": {},
   "outputs": [
    {
     "name": "stdout",
     "output_type": "stream",
     "text": [
      "Total Sequences: 7052\n"
     ]
    }
   ],
   "source": [
    "# Creating Sequences\n",
    "def create_seq(text):\n",
    "    length = 30\n",
    "    sequences = list()\n",
    "    for i in range(length, len(text)):\n",
    "        # select sequence of tokens\n",
    "        seq = text[i-length:i+1]\n",
    "        # store\n",
    "        sequences.append(seq)\n",
    "    print('Total Sequences: %d' % len(sequences))\n",
    "    return sequences\n",
    "\n",
    "# create sequences   \n",
    "sequences = create_seq(data_new)"
   ]
  },
  {
   "cell_type": "code",
   "execution_count": 22,
   "metadata": {},
   "outputs": [],
   "source": [
    "# Encoding Sequences\n",
    "# create a character mapping index\n",
    "chars = sorted(list(set(data_new)))\n",
    "mapping = dict((c, i) for i, c in enumerate(chars))\n",
    "\n",
    "def encode_seq(seq):\n",
    "    sequences = list()\n",
    "    for line in seq:\n",
    "        # integer encode line\n",
    "        encoded_seq = [mapping[char] for char in line]\n",
    "        # store\n",
    "        sequences.append(encoded_seq)\n",
    "    return sequences\n",
    "\n",
    "# encode the sequences\n",
    "sequences = encode_seq(sequences)"
   ]
  },
  {
   "cell_type": "code",
   "execution_count": 25,
   "metadata": {},
   "outputs": [
    {
     "name": "stdout",
     "output_type": "stream",
     "text": [
      "Train shape: (6346, 30) Val shape: (706, 30)\n"
     ]
    }
   ],
   "source": [
    "# Create Training and Validation set\n",
    "from sklearn.model_selection import train_test_split\n",
    "\n",
    "# vocabulary size\n",
    "vocab = len(mapping)\n",
    "sequences = np.array(sequences)\n",
    "# create X and y\n",
    "X, y = sequences[:,:-1], sequences[:,-1]\n",
    "# one hot encode y\n",
    "y = to_categorical(y, num_classes=vocab)\n",
    "# create train and validation sets\n",
    "X_tr, X_val, y_tr, y_val = train_test_split(X, y, test_size=0.1, random_state=42)\n",
    "\n",
    "print('Train shape:', X_tr.shape, 'Val shape:', X_val.shape)"
   ]
  },
  {
   "cell_type": "code",
   "execution_count": 26,
   "metadata": {},
   "outputs": [
    {
     "name": "stdout",
     "output_type": "stream",
     "text": [
      "Model: \"sequential\"\n",
      "_________________________________________________________________\n",
      " Layer (type)                Output Shape              Param #   \n",
      "=================================================================\n",
      " embedding (Embedding)       (None, 30, 50)            1350      \n",
      "                                                                 \n",
      " gru (GRU)                   (None, 150)               90900     \n",
      "                                                                 \n",
      " dense (Dense)               (None, 27)                4077      \n",
      "                                                                 \n",
      "=================================================================\n",
      "Total params: 96327 (376.28 KB)\n",
      "Trainable params: 96327 (376.28 KB)\n",
      "Non-trainable params: 0 (0.00 Byte)\n",
      "_________________________________________________________________\n",
      "None\n",
      "Epoch 1/100\n",
      "199/199 - 10s - loss: 2.7696 - acc: 0.1943 - val_loss: 2.4385 - val_acc: 0.2805 - 10s/epoch - 50ms/step\n",
      "Epoch 2/100\n",
      "199/199 - 6s - loss: 2.3052 - acc: 0.3177 - val_loss: 2.2466 - val_acc: 0.3215 - 6s/epoch - 31ms/step\n",
      "Epoch 3/100\n",
      "199/199 - 6s - loss: 2.1584 - acc: 0.3577 - val_loss: 2.1578 - val_acc: 0.3669 - 6s/epoch - 32ms/step\n",
      "Epoch 4/100\n",
      "199/199 - 6s - loss: 2.0542 - acc: 0.3835 - val_loss: 2.0745 - val_acc: 0.3881 - 6s/epoch - 32ms/step\n",
      "Epoch 5/100\n",
      "199/199 - 6s - loss: 1.9677 - acc: 0.4162 - val_loss: 2.0317 - val_acc: 0.4221 - 6s/epoch - 32ms/step\n",
      "Epoch 6/100\n",
      "199/199 - 6s - loss: 1.8873 - acc: 0.4321 - val_loss: 1.9832 - val_acc: 0.4306 - 6s/epoch - 29ms/step\n",
      "Epoch 7/100\n",
      "199/199 - 6s - loss: 1.8183 - acc: 0.4519 - val_loss: 1.9420 - val_acc: 0.4547 - 6s/epoch - 28ms/step\n",
      "Epoch 8/100\n",
      "199/199 - 6s - loss: 1.7461 - acc: 0.4674 - val_loss: 1.9389 - val_acc: 0.4518 - 6s/epoch - 30ms/step\n",
      "Epoch 9/100\n",
      "199/199 - 5s - loss: 1.6711 - acc: 0.4978 - val_loss: 1.9331 - val_acc: 0.4504 - 5s/epoch - 27ms/step\n",
      "Epoch 10/100\n",
      "199/199 - 6s - loss: 1.6090 - acc: 0.5180 - val_loss: 1.9027 - val_acc: 0.4632 - 6s/epoch - 29ms/step\n",
      "Epoch 11/100\n",
      "199/199 - 6s - loss: 1.5330 - acc: 0.5342 - val_loss: 1.8921 - val_acc: 0.4688 - 6s/epoch - 29ms/step\n",
      "Epoch 12/100\n",
      "199/199 - 5s - loss: 1.4663 - acc: 0.5528 - val_loss: 1.9107 - val_acc: 0.4788 - 5s/epoch - 25ms/step\n",
      "Epoch 13/100\n",
      "199/199 - 5s - loss: 1.4074 - acc: 0.5758 - val_loss: 1.9072 - val_acc: 0.4830 - 5s/epoch - 26ms/step\n",
      "Epoch 14/100\n",
      "199/199 - 5s - loss: 1.3405 - acc: 0.5936 - val_loss: 1.9147 - val_acc: 0.4873 - 5s/epoch - 26ms/step\n",
      "Epoch 15/100\n",
      "199/199 - 5s - loss: 1.2922 - acc: 0.6057 - val_loss: 1.9119 - val_acc: 0.4873 - 5s/epoch - 25ms/step\n",
      "Epoch 16/100\n",
      "199/199 - 5s - loss: 1.2280 - acc: 0.6205 - val_loss: 1.9298 - val_acc: 0.4830 - 5s/epoch - 26ms/step\n",
      "Epoch 17/100\n",
      "199/199 - 5s - loss: 1.1840 - acc: 0.6369 - val_loss: 1.9533 - val_acc: 0.4858 - 5s/epoch - 26ms/step\n",
      "Epoch 18/100\n",
      "199/199 - 6s - loss: 1.1463 - acc: 0.6437 - val_loss: 1.9398 - val_acc: 0.5014 - 6s/epoch - 32ms/step\n",
      "Epoch 19/100\n",
      "199/199 - 6s - loss: 1.0888 - acc: 0.6618 - val_loss: 1.9797 - val_acc: 0.4830 - 6s/epoch - 31ms/step\n",
      "Epoch 20/100\n",
      "199/199 - 6s - loss: 1.0516 - acc: 0.6806 - val_loss: 1.9784 - val_acc: 0.5000 - 6s/epoch - 30ms/step\n",
      "Epoch 21/100\n",
      "199/199 - 5s - loss: 1.0124 - acc: 0.6891 - val_loss: 1.9910 - val_acc: 0.4901 - 5s/epoch - 27ms/step\n",
      "Epoch 22/100\n",
      "199/199 - 5s - loss: 0.9630 - acc: 0.6992 - val_loss: 2.0454 - val_acc: 0.4901 - 5s/epoch - 26ms/step\n",
      "Epoch 23/100\n",
      "199/199 - 5s - loss: 0.9379 - acc: 0.7064 - val_loss: 2.0613 - val_acc: 0.5028 - 5s/epoch - 25ms/step\n",
      "Epoch 24/100\n",
      "199/199 - 5s - loss: 0.8990 - acc: 0.7181 - val_loss: 2.0920 - val_acc: 0.4929 - 5s/epoch - 25ms/step\n",
      "Epoch 25/100\n",
      "199/199 - 5s - loss: 0.8541 - acc: 0.7368 - val_loss: 2.0939 - val_acc: 0.5071 - 5s/epoch - 27ms/step\n",
      "Epoch 26/100\n",
      "199/199 - 6s - loss: 0.8436 - acc: 0.7310 - val_loss: 2.1315 - val_acc: 0.4915 - 6s/epoch - 28ms/step\n",
      "Epoch 27/100\n",
      "199/199 - 6s - loss: 0.8049 - acc: 0.7518 - val_loss: 2.1577 - val_acc: 0.4958 - 6s/epoch - 31ms/step\n",
      "Epoch 28/100\n",
      "199/199 - 7s - loss: 0.7765 - acc: 0.7513 - val_loss: 2.1828 - val_acc: 0.4929 - 7s/epoch - 34ms/step\n",
      "Epoch 29/100\n",
      "199/199 - 6s - loss: 0.7622 - acc: 0.7587 - val_loss: 2.2085 - val_acc: 0.5042 - 6s/epoch - 30ms/step\n",
      "Epoch 30/100\n",
      "199/199 - 6s - loss: 0.7348 - acc: 0.7709 - val_loss: 2.2277 - val_acc: 0.5014 - 6s/epoch - 29ms/step\n",
      "Epoch 31/100\n",
      "199/199 - 5s - loss: 0.7192 - acc: 0.7706 - val_loss: 2.2442 - val_acc: 0.4901 - 5s/epoch - 27ms/step\n",
      "Epoch 32/100\n",
      "199/199 - 5s - loss: 0.6955 - acc: 0.7810 - val_loss: 2.2829 - val_acc: 0.4844 - 5s/epoch - 27ms/step\n",
      "Epoch 33/100\n",
      "199/199 - 6s - loss: 0.6635 - acc: 0.7936 - val_loss: 2.3198 - val_acc: 0.4844 - 6s/epoch - 28ms/step\n",
      "Epoch 34/100\n",
      "199/199 - 6s - loss: 0.6638 - acc: 0.7879 - val_loss: 2.3313 - val_acc: 0.4844 - 6s/epoch - 30ms/step\n",
      "Epoch 35/100\n",
      "199/199 - 5s - loss: 0.6442 - acc: 0.7917 - val_loss: 2.3571 - val_acc: 0.4915 - 5s/epoch - 27ms/step\n",
      "Epoch 36/100\n",
      "199/199 - 6s - loss: 0.6171 - acc: 0.8096 - val_loss: 2.3796 - val_acc: 0.4873 - 6s/epoch - 28ms/step\n",
      "Epoch 37/100\n",
      "199/199 - 5s - loss: 0.6057 - acc: 0.8051 - val_loss: 2.3909 - val_acc: 0.4972 - 5s/epoch - 26ms/step\n",
      "Epoch 38/100\n",
      "199/199 - 5s - loss: 0.5971 - acc: 0.8092 - val_loss: 2.4606 - val_acc: 0.4788 - 5s/epoch - 26ms/step\n",
      "Epoch 39/100\n",
      "199/199 - 6s - loss: 0.5696 - acc: 0.8139 - val_loss: 2.4908 - val_acc: 0.4858 - 6s/epoch - 28ms/step\n",
      "Epoch 40/100\n",
      "199/199 - 6s - loss: 0.5612 - acc: 0.8240 - val_loss: 2.4866 - val_acc: 0.4958 - 6s/epoch - 28ms/step\n",
      "Epoch 41/100\n",
      "199/199 - 5s - loss: 0.5420 - acc: 0.8271 - val_loss: 2.5474 - val_acc: 0.4887 - 5s/epoch - 26ms/step\n",
      "Epoch 42/100\n",
      "199/199 - 5s - loss: 0.5375 - acc: 0.8303 - val_loss: 2.5522 - val_acc: 0.4873 - 5s/epoch - 26ms/step\n",
      "Epoch 43/100\n",
      "199/199 - 5s - loss: 0.5179 - acc: 0.8355 - val_loss: 2.5689 - val_acc: 0.4929 - 5s/epoch - 25ms/step\n",
      "Epoch 44/100\n",
      "199/199 - 6s - loss: 0.5245 - acc: 0.8289 - val_loss: 2.5826 - val_acc: 0.4773 - 6s/epoch - 30ms/step\n",
      "Epoch 45/100\n",
      "199/199 - 5s - loss: 0.5063 - acc: 0.8333 - val_loss: 2.6210 - val_acc: 0.4858 - 5s/epoch - 26ms/step\n",
      "Epoch 46/100\n",
      "199/199 - 5s - loss: 0.4982 - acc: 0.8379 - val_loss: 2.6391 - val_acc: 0.4858 - 5s/epoch - 26ms/step\n",
      "Epoch 47/100\n",
      "199/199 - 6s - loss: 0.4858 - acc: 0.8442 - val_loss: 2.6393 - val_acc: 0.4858 - 6s/epoch - 28ms/step\n",
      "Epoch 48/100\n",
      "199/199 - 6s - loss: 0.4800 - acc: 0.8462 - val_loss: 2.6662 - val_acc: 0.4802 - 6s/epoch - 28ms/step\n",
      "Epoch 49/100\n",
      "199/199 - 5s - loss: 0.4632 - acc: 0.8553 - val_loss: 2.6789 - val_acc: 0.4802 - 5s/epoch - 26ms/step\n",
      "Epoch 50/100\n",
      "199/199 - 5s - loss: 0.4546 - acc: 0.8571 - val_loss: 2.7126 - val_acc: 0.4929 - 5s/epoch - 26ms/step\n",
      "Epoch 51/100\n",
      "199/199 - 5s - loss: 0.4443 - acc: 0.8560 - val_loss: 2.7330 - val_acc: 0.4887 - 5s/epoch - 24ms/step\n",
      "Epoch 52/100\n",
      "199/199 - 5s - loss: 0.4435 - acc: 0.8553 - val_loss: 2.7445 - val_acc: 0.4745 - 5s/epoch - 26ms/step\n",
      "Epoch 53/100\n",
      "199/199 - 5s - loss: 0.4502 - acc: 0.8539 - val_loss: 2.7771 - val_acc: 0.4788 - 5s/epoch - 23ms/step\n",
      "Epoch 54/100\n",
      "199/199 - 5s - loss: 0.4275 - acc: 0.8612 - val_loss: 2.8586 - val_acc: 0.4887 - 5s/epoch - 23ms/step\n",
      "Epoch 55/100\n",
      "199/199 - 4s - loss: 0.4305 - acc: 0.8583 - val_loss: 2.8475 - val_acc: 0.4958 - 4s/epoch - 22ms/step\n",
      "Epoch 56/100\n",
      "199/199 - 5s - loss: 0.4242 - acc: 0.8620 - val_loss: 2.8566 - val_acc: 0.4901 - 5s/epoch - 23ms/step\n",
      "Epoch 57/100\n",
      "199/199 - 5s - loss: 0.4102 - acc: 0.8676 - val_loss: 2.8858 - val_acc: 0.4773 - 5s/epoch - 25ms/step\n",
      "Epoch 58/100\n",
      "199/199 - 6s - loss: 0.4062 - acc: 0.8703 - val_loss: 2.9046 - val_acc: 0.4929 - 6s/epoch - 28ms/step\n",
      "Epoch 59/100\n",
      "199/199 - 6s - loss: 0.4039 - acc: 0.8624 - val_loss: 2.9214 - val_acc: 0.4788 - 6s/epoch - 29ms/step\n",
      "Epoch 60/100\n",
      "199/199 - 5s - loss: 0.4132 - acc: 0.8613 - val_loss: 2.9302 - val_acc: 0.5000 - 5s/epoch - 27ms/step\n",
      "Epoch 61/100\n",
      "199/199 - 5s - loss: 0.4038 - acc: 0.8691 - val_loss: 2.9742 - val_acc: 0.4745 - 5s/epoch - 28ms/step\n",
      "Epoch 62/100\n",
      "199/199 - 5s - loss: 0.3948 - acc: 0.8702 - val_loss: 2.9792 - val_acc: 0.4788 - 5s/epoch - 26ms/step\n",
      "Epoch 63/100\n",
      "199/199 - 5s - loss: 0.3863 - acc: 0.8755 - val_loss: 2.9443 - val_acc: 0.4830 - 5s/epoch - 26ms/step\n",
      "Epoch 64/100\n",
      "199/199 - 5s - loss: 0.3840 - acc: 0.8722 - val_loss: 2.9933 - val_acc: 0.4759 - 5s/epoch - 26ms/step\n",
      "Epoch 65/100\n",
      "199/199 - 5s - loss: 0.3672 - acc: 0.8798 - val_loss: 2.9769 - val_acc: 0.4858 - 5s/epoch - 27ms/step\n",
      "Epoch 66/100\n",
      "199/199 - 5s - loss: 0.3684 - acc: 0.8763 - val_loss: 3.0266 - val_acc: 0.4901 - 5s/epoch - 26ms/step\n",
      "Epoch 67/100\n",
      "199/199 - 5s - loss: 0.3611 - acc: 0.8826 - val_loss: 3.0653 - val_acc: 0.4858 - 5s/epoch - 26ms/step\n",
      "Epoch 68/100\n",
      "199/199 - 5s - loss: 0.3642 - acc: 0.8795 - val_loss: 3.0831 - val_acc: 0.4858 - 5s/epoch - 26ms/step\n",
      "Epoch 69/100\n",
      "199/199 - 5s - loss: 0.3668 - acc: 0.8801 - val_loss: 3.0921 - val_acc: 0.4802 - 5s/epoch - 26ms/step\n",
      "Epoch 70/100\n",
      "199/199 - 5s - loss: 0.3564 - acc: 0.8834 - val_loss: 3.1079 - val_acc: 0.4745 - 5s/epoch - 26ms/step\n",
      "Epoch 71/100\n",
      "199/199 - 5s - loss: 0.3542 - acc: 0.8834 - val_loss: 3.1325 - val_acc: 0.4773 - 5s/epoch - 26ms/step\n",
      "Epoch 72/100\n",
      "199/199 - 5s - loss: 0.3579 - acc: 0.8799 - val_loss: 3.1470 - val_acc: 0.4802 - 5s/epoch - 27ms/step\n",
      "Epoch 73/100\n",
      "199/199 - 5s - loss: 0.3475 - acc: 0.8847 - val_loss: 3.1550 - val_acc: 0.4887 - 5s/epoch - 26ms/step\n",
      "Epoch 74/100\n",
      "199/199 - 5s - loss: 0.3393 - acc: 0.8916 - val_loss: 3.1915 - val_acc: 0.4688 - 5s/epoch - 25ms/step\n",
      "Epoch 75/100\n",
      "199/199 - 5s - loss: 0.3509 - acc: 0.8843 - val_loss: 3.1760 - val_acc: 0.4816 - 5s/epoch - 25ms/step\n",
      "Epoch 76/100\n",
      "199/199 - 5s - loss: 0.3262 - acc: 0.8976 - val_loss: 3.2204 - val_acc: 0.4731 - 5s/epoch - 26ms/step\n",
      "Epoch 77/100\n",
      "199/199 - 6s - loss: 0.3356 - acc: 0.8928 - val_loss: 3.1949 - val_acc: 0.4759 - 6s/epoch - 28ms/step\n",
      "Epoch 78/100\n",
      "199/199 - 6s - loss: 0.3251 - acc: 0.8921 - val_loss: 3.1740 - val_acc: 0.4873 - 6s/epoch - 29ms/step\n",
      "Epoch 79/100\n",
      "199/199 - 5s - loss: 0.3343 - acc: 0.8884 - val_loss: 3.2406 - val_acc: 0.4745 - 5s/epoch - 25ms/step\n",
      "Epoch 80/100\n",
      "199/199 - 5s - loss: 0.3245 - acc: 0.8949 - val_loss: 3.2669 - val_acc: 0.4802 - 5s/epoch - 28ms/step\n",
      "Epoch 81/100\n",
      "199/199 - 6s - loss: 0.3250 - acc: 0.8949 - val_loss: 3.2803 - val_acc: 0.4773 - 6s/epoch - 28ms/step\n",
      "Epoch 82/100\n",
      "199/199 - 5s - loss: 0.3276 - acc: 0.8922 - val_loss: 3.3038 - val_acc: 0.4731 - 5s/epoch - 27ms/step\n",
      "Epoch 83/100\n",
      "199/199 - 5s - loss: 0.3210 - acc: 0.8969 - val_loss: 3.2824 - val_acc: 0.4688 - 5s/epoch - 25ms/step\n",
      "Epoch 84/100\n",
      "199/199 - 5s - loss: 0.3144 - acc: 0.8927 - val_loss: 3.3144 - val_acc: 0.4703 - 5s/epoch - 24ms/step\n",
      "Epoch 85/100\n",
      "199/199 - 5s - loss: 0.3105 - acc: 0.8990 - val_loss: 3.3397 - val_acc: 0.4858 - 5s/epoch - 24ms/step\n",
      "Epoch 86/100\n",
      "199/199 - 5s - loss: 0.3128 - acc: 0.8998 - val_loss: 3.3362 - val_acc: 0.4873 - 5s/epoch - 24ms/step\n",
      "Epoch 87/100\n",
      "199/199 - 5s - loss: 0.3059 - acc: 0.8971 - val_loss: 3.4004 - val_acc: 0.4773 - 5s/epoch - 24ms/step\n",
      "Epoch 88/100\n",
      "199/199 - 5s - loss: 0.3193 - acc: 0.8932 - val_loss: 3.3471 - val_acc: 0.4788 - 5s/epoch - 23ms/step\n",
      "Epoch 89/100\n",
      "199/199 - 5s - loss: 0.3053 - acc: 0.8982 - val_loss: 3.3811 - val_acc: 0.4788 - 5s/epoch - 23ms/step\n",
      "Epoch 90/100\n",
      "199/199 - 5s - loss: 0.3073 - acc: 0.8968 - val_loss: 3.3921 - val_acc: 0.4745 - 5s/epoch - 25ms/step\n",
      "Epoch 91/100\n",
      "199/199 - 5s - loss: 0.2847 - acc: 0.9083 - val_loss: 3.4027 - val_acc: 0.4745 - 5s/epoch - 25ms/step\n",
      "Epoch 92/100\n",
      "199/199 - 5s - loss: 0.2999 - acc: 0.8969 - val_loss: 3.4414 - val_acc: 0.4788 - 5s/epoch - 25ms/step\n",
      "Epoch 93/100\n",
      "199/199 - 5s - loss: 0.2963 - acc: 0.9028 - val_loss: 3.4258 - val_acc: 0.4618 - 5s/epoch - 25ms/step\n",
      "Epoch 94/100\n",
      "199/199 - 5s - loss: 0.2848 - acc: 0.9064 - val_loss: 3.4056 - val_acc: 0.4632 - 5s/epoch - 26ms/step\n",
      "Epoch 95/100\n",
      "199/199 - 5s - loss: 0.2893 - acc: 0.9012 - val_loss: 3.4591 - val_acc: 0.4773 - 5s/epoch - 25ms/step\n",
      "Epoch 96/100\n",
      "199/199 - 5s - loss: 0.2898 - acc: 0.9029 - val_loss: 3.5204 - val_acc: 0.4547 - 5s/epoch - 25ms/step\n",
      "Epoch 97/100\n",
      "199/199 - 5s - loss: 0.2988 - acc: 0.8998 - val_loss: 3.5186 - val_acc: 0.4632 - 5s/epoch - 25ms/step\n",
      "Epoch 98/100\n",
      "199/199 - 5s - loss: 0.2935 - acc: 0.9032 - val_loss: 3.5057 - val_acc: 0.4773 - 5s/epoch - 25ms/step\n",
      "Epoch 99/100\n",
      "199/199 - 5s - loss: 0.2771 - acc: 0.9067 - val_loss: 3.4971 - val_acc: 0.4773 - 5s/epoch - 25ms/step\n",
      "Epoch 100/100\n",
      "199/199 - 5s - loss: 0.2833 - acc: 0.9080 - val_loss: 3.5285 - val_acc: 0.4773 - 5s/epoch - 24ms/step\n"
     ]
    },
    {
     "data": {
      "text/plain": [
       "<keras.src.callbacks.History at 0x29987a0ffa0>"
      ]
     },
     "execution_count": 26,
     "metadata": {},
     "output_type": "execute_result"
    }
   ],
   "source": [
    "# define model\n",
    "model = Sequential()\n",
    "model.add(Embedding(vocab, 50, input_length=30, trainable=True))\n",
    "model.add(GRU(150, recurrent_dropout=0.1, dropout=0.1))\n",
    "model.add(Dense(vocab, activation='softmax'))\n",
    "print(model.summary())\n",
    "\n",
    "# compile the model\n",
    "model.compile(loss='categorical_crossentropy', metrics=['acc'], optimizer='adam')\n",
    "# fit the model\n",
    "model.fit(X_tr, y_tr, epochs=100, verbose=2, validation_data=(X_val, y_val))"
   ]
  },
  {
   "cell_type": "code",
   "execution_count": 45,
   "metadata": {},
   "outputs": [],
   "source": [
    "# generate a sequence of characters with a language model\n",
    "def generate_seq(model, mapping, seq_length, seed_text, n_chars):\n",
    "\tin_text = seed_text\n",
    "\t# generate a fixed number of characters\n",
    "\tfor _ in range(n_chars):\n",
    "\t\t# encode the characters as integers\n",
    "\t\tencoded = [mapping[char] for char in in_text]\n",
    "\t\t# truncate sequences to a fixed length\n",
    "\t\tencoded = pad_sequences([encoded], maxlen=seq_length, truncating='pre')\n",
    "\t\t# predict character\n",
    "\t\tyhat = model.predict(encoded, verbose=0)\n",
    "\t\tyhat = np.argmax(yhat)\n",
    "\t\t# reverse map integer to character\n",
    "\t\tout_char = ''\n",
    "\t\tfor char, index in mapping.items():\n",
    "\t\t\tif index == yhat:\n",
    "\t\t\t\tout_char = char\n",
    "\t\t\t\tbreak\n",
    "\t\t# append to input\n",
    "\t\tin_text += char\n",
    "\treturn in_text"
   ]
  },
  {
   "cell_type": "code",
   "execution_count": 58,
   "metadata": {},
   "outputs": [
    {
     "name": "stdout",
     "output_type": "stream",
     "text": [
      "6\n",
      "he has endeavoured brither swarms for the support this d\n"
     ]
    }
   ],
   "source": [
    "inp = 'he has'\n",
    "print(len(inp))\n",
    "print(generate_seq(model,mapping,100,inp.lower(),50))"
   ]
  },
  {
   "cell_type": "code",
   "execution_count": 35,
   "metadata": {},
   "outputs": [
    {
     "name": "stdout",
     "output_type": "stream",
     "text": [
      "199/199 [==============================] - 1s 5ms/step\n"
     ]
    },
    {
     "data": {
      "text/plain": [
       "array([[9.7413415e-01, 2.9224091e-06, 1.2668497e-07, ..., 6.3313604e-11,\n",
       "        4.8858615e-09, 1.5463899e-08],\n",
       "       [9.2443789e-11, 9.9366802e-01, 9.8406705e-10, ..., 6.1619881e-10,\n",
       "        2.9558848e-07, 3.3383948e-10],\n",
       "       [2.3696841e-05, 1.1050967e-08, 3.0466837e-05, ..., 6.0199619e-09,\n",
       "        1.4885595e-05, 2.7122244e-09],\n",
       "       ...,\n",
       "       [1.0904587e-05, 6.1574110e-09, 6.7518999e-06, ..., 6.8733574e-10,\n",
       "        5.4829699e-05, 3.1514594e-10],\n",
       "       [9.3175012e-01, 4.1242046e-08, 9.7030737e-05, ..., 1.3272454e-07,\n",
       "        7.7938574e-07, 7.8452826e-09],\n",
       "       [6.7332885e-13, 1.5693464e-05, 5.1339201e-05, ..., 9.5034244e-07,\n",
       "        1.5796530e-07, 1.3298201e-08]], dtype=float32)"
      ]
     },
     "execution_count": 35,
     "metadata": {},
     "output_type": "execute_result"
    }
   ],
   "source": [
    "model.predict(X_tr)"
   ]
  },
  {
   "cell_type": "code",
   "execution_count": 40,
   "metadata": {},
   "outputs": [
    {
     "data": {
      "text/plain": [
       "{' ': 0,\n",
       " 'a': 1,\n",
       " 'b': 2,\n",
       " 'c': 3,\n",
       " 'd': 4,\n",
       " 'e': 5,\n",
       " 'f': 6,\n",
       " 'g': 7,\n",
       " 'h': 8,\n",
       " 'i': 9,\n",
       " 'j': 10,\n",
       " 'k': 11,\n",
       " 'l': 12,\n",
       " 'm': 13,\n",
       " 'n': 14,\n",
       " 'o': 15,\n",
       " 'p': 16,\n",
       " 'q': 17,\n",
       " 'r': 18,\n",
       " 's': 19,\n",
       " 't': 20,\n",
       " 'u': 21,\n",
       " 'v': 22,\n",
       " 'w': 23,\n",
       " 'x': 24,\n",
       " 'y': 25,\n",
       " 'z': 26}"
      ]
     },
     "execution_count": 40,
     "metadata": {},
     "output_type": "execute_result"
    }
   ],
   "source": [
    "mapping"
   ]
  },
  {
   "cell_type": "code",
   "execution_count": 61,
   "metadata": {},
   "outputs": [
    {
     "name": "stderr",
     "output_type": "stream",
     "text": [
      "c:\\Users\\user\\AppData\\Local\\Programs\\Python\\Python310\\lib\\site-packages\\keras\\src\\engine\\training.py:3000: UserWarning: You are saving your model as an HDF5 file via `model.save()`. This file format is considered legacy. We recommend using instead the native Keras format, e.g. `model.save('my_model.keras')`.\n",
      "  saving_api.save_model(\n"
     ]
    }
   ],
   "source": [
    "# model save\n",
    "model.save('LM_sample.h5')"
   ]
  },
  {
   "cell_type": "code",
   "execution_count": 63,
   "metadata": {},
   "outputs": [],
   "source": [
    "# Testing\n",
    "from tensorflow.keras.models import load_model\n",
    "lm_sample_model = load_model('LM_sample.h5')\n"
   ]
  },
  {
   "cell_type": "code",
   "execution_count": 66,
   "metadata": {},
   "outputs": [
    {
     "name": "stdout",
     "output_type": "stream",
     "text": [
      "6\n",
      "he has endeavoured briths sefferable than recestiction over have been answered offer while evils ary for t\n"
     ]
    }
   ],
   "source": [
    "inp = 'he has'\n",
    "print(len(inp))\n",
    "print(generate_seq(lm_sample_model,mapping,30,inp.lower(),100))"
   ]
  },
  {
   "cell_type": "code",
   "execution_count": null,
   "metadata": {},
   "outputs": [],
   "source": []
  }
 ],
 "metadata": {
  "kernelspec": {
   "display_name": "denv",
   "language": "python",
   "name": "python3"
  },
  "language_info": {
   "codemirror_mode": {
    "name": "ipython",
    "version": 3
   },
   "file_extension": ".py",
   "mimetype": "text/x-python",
   "name": "python",
   "nbconvert_exporter": "python",
   "pygments_lexer": "ipython3",
   "version": "3.10.4"
  },
  "orig_nbformat": 4
 },
 "nbformat": 4,
 "nbformat_minor": 2
}
